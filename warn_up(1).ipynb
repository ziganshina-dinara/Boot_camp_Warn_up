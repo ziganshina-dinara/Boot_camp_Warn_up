{
 "cells": [
  {
   "cell_type": "code",
   "execution_count": 85,
   "metadata": {},
   "outputs": [],
   "source": [
    "import time"
   ]
  },
  {
   "cell_type": "markdown",
   "metadata": {},
   "source": [
    "# Первая задача. Finding a Motif in DNA."
   ]
  },
  {
   "cell_type": "markdown",
   "metadata": {},
   "source": [
    "Для поиска подстроки существует огромное разнообразие алгоритмов.Для сравнения я взяла алгоритмы Рабина-Карпа, Кнута-Морриса-Пратта. В среднем они обладают сложностью соответственно: O(H+n), O(2H), где H — длина строки, в которой ведётся поиск, n — длина шаблона поиска."
   ]
  },
  {
   "cell_type": "code",
   "execution_count": 131,
   "metadata": {},
   "outputs": [
    {
     "name": "stdout",
     "output_type": "stream",
     "text": [
      "4639675\n",
      "50\n"
     ]
    }
   ],
   "source": [
    "with open(\"E_coli.txt\", \"r\") as file:\n",
    "    s=file.read()\n",
    "print(len(s))\n",
    "t=\"AAATGCAACACGTTTTATCCGTTCTGGACTTCACCCGCTAACCAACGCGC\"\n",
    "print(len(t))"
   ]
  },
  {
   "cell_type": "markdown",
   "metadata": {},
   "source": [
    "С помощью алгоритма Д. Кнута, Д. Мориса и В. Пратта."
   ]
  },
  {
   "cell_type": "code",
   "execution_count": 138,
   "metadata": {},
   "outputs": [],
   "source": [
    "def prefix(s):\n",
    "    p = [0] * len(s)\n",
    "    for i in range(1, len(s)):\n",
    "        k = p[i - 1]\n",
    "        while k > 0 and s[k] != s[i]:\n",
    "            k = p[k - 1]\n",
    "        if s[k] == s[i]:\n",
    "            k += 1\n",
    "        p[i] = k\n",
    "    return p\n",
    "def kmp(string, substring):\n",
    "    \"\"\"\n",
    "    find all locations of substring in string\n",
    "    \n",
    "    Parametrs:\n",
    "    string: string, in which you find substring\n",
    "    substring: string, which you find\n",
    "    Return: string with all locations (space-separated) of substring in string \n",
    "    \"\"\"\n",
    "    new_str=substring+\"#\"+string\n",
    "    index = []\n",
    "    pi = prefix(new_str)\n",
    "    for i in range (len(substring)+1, len(new_str)):\n",
    "        if pi[i]==len(substring):\n",
    "            index.append(str(i-2*len(substring)+1))\n",
    "    return \" \".join(index)"
   ]
  },
  {
   "cell_type": "code",
   "execution_count": 132,
   "metadata": {},
   "outputs": [
    {
     "name": "stdout",
     "output_type": "stream",
     "text": [
      "2.1270699501037598\n",
      "Training complete in 0m 2s\n"
     ]
    }
   ],
   "source": [
    "start = time.time()\n",
    "kmp(s,t)\n",
    "end = time.time()\n",
    "print(end - start)\n",
    "time_elapsed = end-start\n",
    "print('Training complete in {:.0f}m {:.0f}s'.format(time_elapsed // 60, time_elapsed % 60))"
   ]
  },
  {
   "cell_type": "markdown",
   "metadata": {},
   "source": [
    "С помощью алгоритма Рабина-Карпа. Рассмотрела 2 способа хэширования. По времени работы функции выбрала первый способ, для которого используется класс Hash."
   ]
  },
  {
   "cell_type": "code",
   "execution_count": 133,
   "metadata": {},
   "outputs": [],
   "source": [
    "class Hash:\n",
    "    def __init__(self, string, size):\n",
    "        self.str  = string\n",
    "        self.hash = 0\n",
    "        for i in range(size):\n",
    "            self.hash += ord(self.str[i])\n",
    "        self.init = 0\n",
    "        self.end  = size\n",
    "\n",
    "    def update(self):\n",
    "        if self.end <= len(self.str) -1:\n",
    "            self.hash -= ord(self.str[self.init])\n",
    "            self.hash += ord(self.str[self.end])\n",
    "            self.init += 1\n",
    "            self.end  += 1\n",
    "\n",
    "    def digest(self):\n",
    "        return self.hash\n",
    "\n",
    "    def text(self):\n",
    "        return self.str[self.init:self.end]\n",
    "class Hash1:\n",
    "    def __init__(self, string, size):\n",
    "        self.str  = string\n",
    "        self.init = 0\n",
    "        self.end  = size\n",
    "        self.hash = 0\n",
    "        d={\"a\":0,\"c\": 1, \"g\":2, \"t\":3}\n",
    "        m=size-1\n",
    "        for i in range(size):\n",
    "            self.hash += d[self.str[i]]*4**m\n",
    "            m=m-1\n",
    "\n",
    "\n",
    "\n",
    "    def update(self):\n",
    "        if self.end <= len(self.str) -1:\n",
    "            self.hash -= d[self.str[self.init]]*4**(size-1)\n",
    "            self.hash *=4\n",
    "            self.hash += d[self.str[self.end]]\n",
    "            self.init += 1\n",
    "            self.end  += 1\n",
    "\n",
    "    def digest(self):\n",
    "        return self.hash\n",
    "\n",
    "    def text(self):\n",
    "        return self.str[self.init:self.end]\n",
    "    \n",
    "def rabin_karp(string, substring):\n",
    "    \"\"\"\n",
    "    find all locations of substring in string\n",
    "    \n",
    "    Parametrs:\n",
    "    string: string, in which you find substring\n",
    "    substring: string, which you find\n",
    "    Return: all locations of substring in string\n",
    "    \"\"\"\n",
    "    string=string.lower()\n",
    "    substring=substring.lower()\n",
    "    array=[]\n",
    "    \n",
    "    if substring == None or string == None:\n",
    "        return -1\n",
    "    if substring == \"\" or string == \"\":\n",
    "        return -1\n",
    "\n",
    "    if len(substring) > len(string):\n",
    "        return -1\n",
    "\n",
    "    hs = Hash(string, len(substring))\n",
    "    hsub = Hash(substring, len(substring))\n",
    "    hsub.update()\n",
    "    for i in range(len(string)-len(substring)+1):\n",
    "        if hs.digest() == hsub.digest():\n",
    "            if hs.text() == substring:\n",
    "                array.append(str(i+1))\n",
    "        hs.update()\n",
    "    a=\" \".join(array)\n",
    "    return a\n",
    "    if array==[]:\n",
    "        return -1\n",
    "    "
   ]
  },
  {
   "cell_type": "code",
   "execution_count": 134,
   "metadata": {},
   "outputs": [
    {
     "name": "stdout",
     "output_type": "stream",
     "text": [
      "9.714576721191406\n",
      "Training complete in 0m 10s\n"
     ]
    }
   ],
   "source": [
    "start = time.time()\n",
    "rabin_karp(s,t)\n",
    "end = time.time()\n",
    "print(end - start)\n",
    "time_elapsed = end-start\n",
    "print('Training complete in {:.0f}m {:.0f}s'.format(time_elapsed // 60, time_elapsed % 60))"
   ]
  },
  {
   "cell_type": "markdown",
   "metadata": {},
   "source": [
    "Для всех строк и шаблонов, рассмотренных мною, быстрее работала реализация алгоритма Кнута-Морриса-Пратта."
   ]
  },
  {
   "cell_type": "markdown",
   "metadata": {},
   "source": [
    "Наглядный пример работы функции."
   ]
  },
  {
   "cell_type": "code",
   "execution_count": 140,
   "metadata": {},
   "outputs": [
    {
     "data": {
      "text/plain": [
       "'2 4 10'"
      ]
     },
     "execution_count": 140,
     "metadata": {},
     "output_type": "execute_result"
    }
   ],
   "source": [
    "kmp('GATATATGCATATACTT','ATAT')"
   ]
  },
  {
   "cell_type": "markdown",
   "metadata": {},
   "source": [
    "# Вторая задача. Genome Assembly with Perfect Coverage."
   ]
  },
  {
   "cell_type": "code",
   "execution_count": 1,
   "metadata": {},
   "outputs": [],
   "source": [
    "def circular_string(set_string):\n",
    "    \"\"\"Return a cyclic superstring of minimal length containing the reads\n",
    "    \n",
    "    Parametrs: \n",
    "    set_string: list of strings, which are DNA k-mers (k<50) taken from the same strand of a circular chromosome. All k-mers from this strand of the chromosome are present, and their de Bruijn graph consists of exactly one simple cycle.\n",
    "    Return the string with the cyclic superstring of minimal length containing the reads (thus corresponding to a candidate cyclic chromosome).\n",
    "    \"\"\"\n",
    "    d={}\n",
    "    #form de Bruijn graph\n",
    "    k=int(len(set_string[0]))\n",
    "    for i in set_string:\n",
    "        for j in set_string:\n",
    "            if (i[1:k]==j[0:k-1] and i!=j):\n",
    "                d[i]=j #in dict key and value forms edge of de Bruijn graph\n",
    "    #read cyclic superstring\n",
    "    q=list(d.keys())[0]\n",
    "    s=q\n",
    "    for i in range(len(d)-(k)):\n",
    "        q=d[q]\n",
    "        s=s+q[-1]\n",
    "    return s"
   ]
  },
  {
   "cell_type": "markdown",
   "metadata": {},
   "source": [
    "Пример работы функции."
   ]
  },
  {
   "cell_type": "code",
   "execution_count": 2,
   "metadata": {},
   "outputs": [
    {
     "data": {
      "text/plain": [
       "'ATTACAG'"
      ]
     },
     "execution_count": 2,
     "metadata": {},
     "output_type": "execute_result"
    }
   ],
   "source": [
    "set_string=['ATTAC','TACAG','GATTA', 'ACAGA','CAGAT','TTACA', 'AGATT']\n",
    "circular_string(set_string)"
   ]
  },
  {
   "cell_type": "markdown",
   "metadata": {},
   "source": [
    "# Третья задача. Bellman-Ford Algorithm."
   ]
  },
  {
   "cell_type": "code",
   "execution_count": 73,
   "metadata": {},
   "outputs": [],
   "source": [
    "def func_ford_bellman(list_edges):\n",
    "    \"\"\"\n",
    "    Compute single-source shortest distances in a directed simple graph with possibly negative edge weights (but without negative cycles).\n",
    "    \n",
    "    Parametrs:\n",
    "    list_edges : The first line contains two numbers, the number of vertices n and the number of edges m, each of the following m lines contains an edge given by two vertices and its weight. \n",
    "    Return:\n",
    "    An array D[1..n] where D[i] is the length of a shortest path from the vertex 1 to the vertex i (D[1]=0). If i is not reachable from 1 set D[i] to x\n",
    "    \"\"\"\n",
    "    #form list_edges for our goal\n",
    "    couples=list_edges.split(\"\\n\")\n",
    "    number_vertex = int(couples[0].split(' ')[0])\n",
    "    prepared_list_edges=[]\n",
    "    for i in couples[1:]:\n",
    "        prepared_list_edges.append(tuple(map(int, i.split(\" \"))))\n",
    "        \n",
    "    d=['x']*number_vertex\n",
    "    d[0]=0\n",
    "    for i in range(number_vertex-1):\n",
    "        for u,v,w in prepared_list_edges:\n",
    "            if d[u-1]!= 'x':\n",
    "                if d[v-1] == 'x':\n",
    "                    d[v-1]=d[u-1]+w\n",
    "                else:\n",
    "                    d[v-1]=min(d[v-1], d[u-1]+w)\n",
    "    return d  "
   ]
  },
  {
   "cell_type": "markdown",
   "metadata": {},
   "source": [
    "Пример работы функции."
   ]
  },
  {
   "cell_type": "code",
   "execution_count": 74,
   "metadata": {},
   "outputs": [
    {
     "data": {
      "text/plain": [
       "[0, 5, 5, 6, 9, 7, 9, 8, 'x']"
      ]
     },
     "execution_count": 74,
     "metadata": {},
     "output_type": "execute_result"
    }
   ],
   "source": [
    "list_edges=\"9 13\\n1 2 10\\n3 2 1\\n3 4 1\\n4 5 3\\n5 6 -1\\n7 6 -1\\n8 7 1\\n1 8 8\\n7 2 -4\\n2 6 2\\n6 3 -2\\n9 5 -10\\n9 4 7\"\n",
    "func_ford_bellman(list_edges)"
   ]
  },
  {
   "cell_type": "markdown",
   "metadata": {},
   "source": [
    "# Четвертая задача. Connected Components."
   ]
  },
  {
   "cell_type": "code",
   "execution_count": 144,
   "metadata": {},
   "outputs": [],
   "source": [
    "def help_DFS(start, k, adjacency_list, visited):\n",
    "    \"\"\"\n",
    "    exam one component\n",
    "    \"\"\"\n",
    "    visited[start]=True\n",
    "    if adjacency_list[start]:\n",
    "        for v in adjacency_list[start]:\n",
    "            if not visited[v]:\n",
    "                help_DFS(v,k, adjacency_list, visited)\n",
    "def solve_DFS(edge_list):\n",
    "    \"\"\"\n",
    "    Compute the number of connected components in a given undirected graph\n",
    "    \n",
    "    Parametrs:\n",
    "    edge_list: The first line contains two numbers, the number of vertices n and the number of edges m, each of the following m lines contains an edge given by two vertices.\n",
    "    Returns: the number of connected components in the graph\n",
    "    \"\"\"\n",
    "    #form adjacency_list\n",
    "    couples=edge_list.split(\"\\n\")\n",
    "    n_vertex, n_edges=couples[0].split(\" \")\n",
    "    adjacency_list=[None]*(int(n_vertex)+1)\n",
    "    for i in couples[1:]:\n",
    "        first_vertex=int(i.split(\" \")[0])\n",
    "        second_vertex=int(i.split(\" \")[1])\n",
    "        if not adjacency_list[first_vertex]:\n",
    "            adjacency_list[first_vertex]=[second_vertex]\n",
    "        else:\n",
    "            adjacency_list[first_vertex].append(second_vertex)\n",
    "        if not adjacency_list[second_vertex]:\n",
    "            adjacency_list[second_vertex]=[first_vertex]\n",
    "        else:\n",
    "            adjacency_list[second_vertex].append(first_vertex)\n",
    "            \n",
    "    #compute number of connected components\n",
    "    k=-1\n",
    "    ncomp=0\n",
    "    visited=[False]*(int(n_vertex)+1)\n",
    "    for i in range(1, int(n_vertex)):\n",
    "        if not visited[i]:\n",
    "            k+=1\n",
    "            ncomp+=1\n",
    "            help_DFS(i,k, adjacency_list, visited)\n",
    "    return ncomp"
   ]
  },
  {
   "cell_type": "markdown",
   "metadata": {},
   "source": [
    "Пример работы функции."
   ]
  },
  {
   "cell_type": "code",
   "execution_count": 147,
   "metadata": {},
   "outputs": [
    {
     "data": {
      "text/plain": [
       "3"
      ]
     },
     "execution_count": 147,
     "metadata": {},
     "output_type": "execute_result"
    }
   ],
   "source": [
    "edge_list=\"12 13\\n1 2\\n1 5\\n5 9\\n5 10\\n9 10\\n3 4\\n3 7\\n3 8\\n4 8\\n7 11\\n8 11\\n11 12\\n8 12\"\n",
    "solve_DFS(edge_list)"
   ]
  },
  {
   "cell_type": "markdown",
   "metadata": {},
   "source": [
    "# Пятая задача. Quick Sort."
   ]
  },
  {
   "cell_type": "code",
   "execution_count": 42,
   "metadata": {},
   "outputs": [],
   "source": [
    "def QuickSort(array):\n",
    "    \"\"\"sort array\n",
    "    \n",
    "    Parametrs:\n",
    "    array: array A[1..n] of integers from −10**5 to  10**5\n",
    "    Returns: A sorted array A[1..n].\n",
    "    \"\"\"\n",
    "    if len(array) <= 1:\n",
    "        return array\n",
    "    else:\n",
    "        q = array[int(len(array)/2)-1]\n",
    "        L = [elem for elem in array if elem < q]\n",
    "        M = [q] * array.count(q)\n",
    "        R = [elem for elem in array if elem > q] \n",
    "        return QuickSort(L) + M + QuickSort(R)"
   ]
  },
  {
   "cell_type": "markdown",
   "metadata": {},
   "source": [
    "Пример работы функции."
   ]
  },
  {
   "cell_type": "code",
   "execution_count": 43,
   "metadata": {},
   "outputs": [
    {
     "data": {
      "text/plain": [
       "[-10, -2, 4, 5, 7, 8, 11]"
      ]
     },
     "execution_count": 43,
     "metadata": {},
     "output_type": "execute_result"
    }
   ],
   "source": [
    "a=[5, -2, 4, 7 ,8, -10, 11]\n",
    "QuickSort(a)"
   ]
  }
 ],
 "metadata": {
  "kernelspec": {
   "display_name": "Python 3",
   "language": "python",
   "name": "python3"
  },
  "language_info": {
   "codemirror_mode": {
    "name": "ipython",
    "version": 3
   },
   "file_extension": ".py",
   "mimetype": "text/x-python",
   "name": "python",
   "nbconvert_exporter": "python",
   "pygments_lexer": "ipython3",
   "version": "3.8.2"
  }
 },
 "nbformat": 4,
 "nbformat_minor": 4
}
